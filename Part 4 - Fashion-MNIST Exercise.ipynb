{
 "cells": [
  {
   "cell_type": "markdown",
   "metadata": {},
   "source": [
    "# Classifying Fashion-MNIST\n",
    "\n",
    "Now it's your turn to build and train a neural network. You'll be using the [Fashion-MNIST dataset](https://github.com/zalandoresearch/fashion-mnist), a drop-in replacement for the MNIST dataset. MNIST is actually quite trivial with neural networks where you can easily achieve better than 97% accuracy. Fashion-MNIST is a set of 28x28 greyscale images of clothes. It's more complex than MNIST, so it's a better representation of the actual performance of your network, and a better representation of datasets you'll use in the real world.\n",
    "\n",
    "<img src='assets/fashion-mnist-sprite.png' width=500px>\n",
    "\n",
    "In this notebook, you'll build your own neural network. For the most part, you could just copy and paste the code from Part 3, but you wouldn't be learning. It's important for you to write the code yourself and get it to work. Feel free to consult the previous notebook though as you work through this.\n",
    "\n",
    "First off, let's load the dataset through torchvision."
   ]
  },
  {
   "cell_type": "code",
   "execution_count": 1,
   "metadata": {},
   "outputs": [
    {
     "name": "stdout",
     "output_type": "stream",
     "text": [
      "Downloading http://fashion-mnist.s3-website.eu-central-1.amazonaws.com/train-images-idx3-ubyte.gz\n",
      "Downloading http://fashion-mnist.s3-website.eu-central-1.amazonaws.com/train-labels-idx1-ubyte.gz\n",
      "Downloading http://fashion-mnist.s3-website.eu-central-1.amazonaws.com/t10k-images-idx3-ubyte.gz\n",
      "Downloading http://fashion-mnist.s3-website.eu-central-1.amazonaws.com/t10k-labels-idx1-ubyte.gz\n",
      "Processing...\n",
      "Done!\n"
     ]
    }
   ],
   "source": [
    "import torch\n",
    "from torchvision import datasets, transforms\n",
    "import helper\n",
    "\n",
    "# Define a transform to normalize the data\n",
    "transform = transforms.Compose([transforms.ToTensor(),\n",
    "                                transforms.Normalize((0.5, 0.5, 0.5), (0.5, 0.5, 0.5))])\n",
    "# Download and load the training data\n",
    "trainset = datasets.FashionMNIST('F_MNIST_data/', download=True, train=True, transform=transform)\n",
    "trainloader = torch.utils.data.DataLoader(trainset, batch_size=64, shuffle=True)\n",
    "\n",
    "# Download and load the test data\n",
    "testset = datasets.FashionMNIST('F_MNIST_data/', download=True, train=False, transform=transform)\n",
    "testloader = torch.utils.data.DataLoader(testset, batch_size=64, shuffle=True)"
   ]
  },
  {
   "cell_type": "markdown",
   "metadata": {},
   "source": [
    "Here we can see one of the images."
   ]
  },
  {
   "cell_type": "code",
   "execution_count": 2,
   "metadata": {},
   "outputs": [
    {
     "data": {
      "image/png": "[encoded data removed]",
      "text/plain": [
       "<matplotlib.figure.Figure at 0x7fa09061ab38>"
      ]
     },
     "metadata": {},
     "output_type": "display_data"
    }
   ],
   "source": [
    "image, label = next(iter(trainloader))\n",
    "helper.imshow(image[0,:]);"
   ]
  },
  {
   "cell_type": "markdown",
   "metadata": {},
   "source": [
    "With the data loaded, it's time to import the necessary packages."
   ]
  },
  {
   "cell_type": "code",
   "execution_count": 3,
   "metadata": {},
   "outputs": [],
   "source": [
    "%matplotlib inline\n",
    "%config InlineBackend.figure_format = 'retina'\n",
    "\n",
    "import matplotlib.pyplot as plt\n",
    "import numpy as np\n",
    "import time\n",
    "\n",
    "import torch\n",
    "from torch import nn\n",
    "from torch import optim\n",
    "import torch.nn.functional as F\n",
    "from torchvision import datasets, transforms\n",
    "\n",
    "import helper"
   ]
  },
  {
   "cell_type": "markdown",
   "metadata": {},
   "source": [
    "## Building the network\n",
    "\n",
    "Here you should define your network. As with MNIST, each image is 28x28 which is a total of 784 pixels, and there are 10 classes. You should include at least one hidden layer. We suggest you use ReLU activations for the layers and to return the logits from the forward pass. It's up to you how many layers you add and the size of those layers."
   ]
  },
  {
   "cell_type": "code",
   "execution_count": 18,
   "metadata": {},
   "outputs": [],
   "source": [
    "# TODO: Define your network architecture here\n",
    "input_size = 28*28\n",
    "hidden_sizes = [392, 128]\n",
    "output_size = 10"
   ]
  },
  {
   "cell_type": "markdown",
   "metadata": {},
   "source": [
    "# Train the network\n",
    "\n",
    "Now you should create your network and train it. First you'll want to define [the criterion](http://pytorch.org/docs/master/nn.html#loss-functions) ( something like `nn.CrossEntropyLoss`) and [the optimizer](http://pytorch.org/docs/master/optim.html) (typically `optim.SGD` or `optim.Adam`).\n",
    "\n",
    "Then write the training code. Remember the training pass is a fairly straightforward process:\n",
    "\n",
    "* Make a forward pass through the network to get the logits \n",
    "* Use the logits to calculate the loss\n",
    "* Perform a backward pass through the network with `loss.backward()` to calculate the gradients\n",
    "* Take a step with the optimizer to update the weights\n",
    "\n",
    "By adjusting the hyperparameters (hidden units, learning rate, etc), you should be able to get the training loss below 0.4."
   ]
  },
  {
   "cell_type": "code",
   "execution_count": 19,
   "metadata": {},
   "outputs": [],
   "source": [
    "# TODO: Create the network, define the criterion and optimizer\n",
    "from collections import OrderedDict\n",
    "\n",
    "model = nn.Sequential(OrderedDict([\n",
    "    ('fc1', nn.Linear(input_size, hidden_sizes[0])),\n",
    "    ('relu1', nn.ReLU()),\n",
    "    ('fc2', nn.Linear(hidden_sizes[0], hidden_sizes[1])),\n",
    "    ('relu2', nn.ReLU()),\n",
    "    ('outputs', nn.Linear(hidden_sizes[1], output_size))\n",
    "#     ('fc3', nn.Linear(hidden_sizes[1], hidden_sizes[2])),\n",
    "#     ('relu3', nn.ReLU()),\n",
    "#     ('outputs', nn.Linear(hidden_sizes[2], output_size))\n",
    "]))\n",
    "\n",
    "criterion = nn.CrossEntropyLoss()\n",
    "optimizer = optim.Adam(model.parameters(), lr=0.01)"
   ]
  },
  {
   "cell_type": "code",
   "execution_count": 20,
   "metadata": {},
   "outputs": [
    {
     "name": "stdout",
     "output_type": "stream",
     "text": [
      "Epoch: 1/7... Loss: 1.2084\n",
      "Epoch: 1/7... Loss: 0.6732\n",
      "Epoch: 1/7... Loss: 0.6107\n",
      "Epoch: 1/7... Loss: 0.5883\n",
      "Epoch: 1/7... Loss: 0.5600\n",
      "Epoch: 1/7... Loss: 0.5489\n",
      "Epoch: 1/7... Loss: 0.5615\n",
      "Epoch: 1/7... Loss: 0.5526\n",
      "Epoch: 1/7... Loss: 0.5284\n",
      "Epoch: 1/7... Loss: 0.5131\n",
      "Epoch: 1/7... Loss: 0.5208\n",
      "Epoch: 1/7... Loss: 0.5286\n",
      "Epoch: 1/7... Loss: 0.4600\n",
      "Epoch: 1/7... Loss: 0.4841\n",
      "Epoch: 1/7... Loss: 0.4533\n",
      "Epoch: 1/7... Loss: 0.5123\n",
      "Epoch: 1/7... Loss: 0.4786\n",
      "Epoch: 1/7... Loss: 0.4546\n",
      "Epoch: 2/7... Loss: 0.1257\n",
      "Epoch: 2/7... Loss: 0.4931\n",
      "Epoch: 2/7... Loss: 0.4839\n",
      "Epoch: 2/7... Loss: 0.4311\n",
      "Epoch: 2/7... Loss: 0.4345\n",
      "Epoch: 2/7... Loss: 0.4556\n",
      "Epoch: 2/7... Loss: 0.5008\n",
      "Epoch: 2/7... Loss: 0.4674\n",
      "Epoch: 2/7... Loss: 0.4397\n",
      "Epoch: 2/7... Loss: 0.4716\n",
      "Epoch: 2/7... Loss: 0.4583\n",
      "Epoch: 2/7... Loss: 0.4712\n",
      "Epoch: 2/7... Loss: 0.4433\n",
      "Epoch: 2/7... Loss: 0.4610\n",
      "Epoch: 2/7... Loss: 0.4236\n",
      "Epoch: 2/7... Loss: 0.4254\n",
      "Epoch: 2/7... Loss: 0.4200\n",
      "Epoch: 2/7... Loss: 0.4391\n",
      "Epoch: 2/7... Loss: 0.4391\n",
      "Epoch: 3/7... Loss: 0.2087\n",
      "Epoch: 3/7... Loss: 0.4472\n",
      "Epoch: 3/7... Loss: 0.4246\n",
      "Epoch: 3/7... Loss: 0.4646\n",
      "Epoch: 3/7... Loss: 0.4601\n",
      "Epoch: 3/7... Loss: 0.4070\n",
      "Epoch: 3/7... Loss: 0.4470\n",
      "Epoch: 3/7... Loss: 0.4702\n",
      "Epoch: 3/7... Loss: 0.4254\n",
      "Epoch: 3/7... Loss: 0.4357\n",
      "Epoch: 3/7... Loss: 0.4526\n",
      "Epoch: 3/7... Loss: 0.4613\n",
      "Epoch: 3/7... Loss: 0.4161\n",
      "Epoch: 3/7... Loss: 0.4360\n",
      "Epoch: 3/7... Loss: 0.4077\n",
      "Epoch: 3/7... Loss: 0.4057\n",
      "Epoch: 3/7... Loss: 0.4215\n",
      "Epoch: 3/7... Loss: 0.3857\n",
      "Epoch: 3/7... Loss: 0.4315\n",
      "Epoch: 4/7... Loss: 0.3024\n",
      "Epoch: 4/7... Loss: 0.3832\n",
      "Epoch: 4/7... Loss: 0.3873\n",
      "Epoch: 4/7... Loss: 0.3974\n",
      "Epoch: 4/7... Loss: 0.4197\n",
      "Epoch: 4/7... Loss: 0.4042\n",
      "Epoch: 4/7... Loss: 0.3945\n",
      "Epoch: 4/7... Loss: 0.3884\n",
      "Epoch: 4/7... Loss: 0.4042\n",
      "Epoch: 4/7... Loss: 0.3848\n",
      "Epoch: 4/7... Loss: 0.3978\n",
      "Epoch: 4/7... Loss: 0.3840\n",
      "Epoch: 4/7... Loss: 0.4374\n",
      "Epoch: 4/7... Loss: 0.4228\n",
      "Epoch: 4/7... Loss: 0.4141\n",
      "Epoch: 4/7... Loss: 0.4185\n",
      "Epoch: 4/7... Loss: 0.3778\n",
      "Epoch: 4/7... Loss: 0.4473\n",
      "Epoch: 4/7... Loss: 0.4418\n",
      "Epoch: 5/7... Loss: 0.3556\n",
      "Epoch: 5/7... Loss: 0.3838\n",
      "Epoch: 5/7... Loss: 0.3981\n",
      "Epoch: 5/7... Loss: 0.3922\n",
      "Epoch: 5/7... Loss: 0.3888\n",
      "Epoch: 5/7... Loss: 0.3765\n",
      "Epoch: 5/7... Loss: 0.4104\n",
      "Epoch: 5/7... Loss: 0.4019\n",
      "Epoch: 5/7... Loss: 0.4020\n",
      "Epoch: 5/7... Loss: 0.4178\n",
      "Epoch: 5/7... Loss: 0.4296\n",
      "Epoch: 5/7... Loss: 0.4384\n",
      "Epoch: 5/7... Loss: 0.4448\n",
      "Epoch: 5/7... Loss: 0.4020\n",
      "Epoch: 5/7... Loss: 0.3805\n",
      "Epoch: 5/7... Loss: 0.4017\n",
      "Epoch: 5/7... Loss: 0.3816\n",
      "Epoch: 5/7... Loss: 0.3795\n",
      "Epoch: 6/7... Loss: 0.0765\n",
      "Epoch: 6/7... Loss: 0.3884\n",
      "Epoch: 6/7... Loss: 0.3696\n",
      "Epoch: 6/7... Loss: 0.3436\n",
      "Epoch: 6/7... Loss: 0.3734\n",
      "Epoch: 6/7... Loss: 0.4031\n",
      "Epoch: 6/7... Loss: 0.3795\n",
      "Epoch: 6/7... Loss: 0.3812\n",
      "Epoch: 6/7... Loss: 0.3814\n",
      "Epoch: 6/7... Loss: 0.4131\n",
      "Epoch: 6/7... Loss: 0.3935\n",
      "Epoch: 6/7... Loss: 0.4291\n",
      "Epoch: 6/7... Loss: 0.4201\n",
      "Epoch: 6/7... Loss: 0.4272\n",
      "Epoch: 6/7... Loss: 0.4286\n",
      "Epoch: 6/7... Loss: 0.4211\n",
      "Epoch: 6/7... Loss: 0.3822\n",
      "Epoch: 6/7... Loss: 0.3593\n",
      "Epoch: 6/7... Loss: 0.4139\n",
      "Epoch: 7/7... Loss: 0.1572\n",
      "Epoch: 7/7... Loss: 0.3733\n",
      "Epoch: 7/7... Loss: 0.3864\n",
      "Epoch: 7/7... Loss: 0.4369\n",
      "Epoch: 7/7... Loss: 0.3957\n",
      "Epoch: 7/7... Loss: 0.3695\n",
      "Epoch: 7/7... Loss: 0.3766\n",
      "Epoch: 7/7... Loss: 0.4282\n",
      "Epoch: 7/7... Loss: 0.4033\n",
      "Epoch: 7/7... Loss: 0.3773\n",
      "Epoch: 7/7... Loss: 0.3923\n",
      "Epoch: 7/7... Loss: 0.3709\n",
      "Epoch: 7/7... Loss: 0.3889\n",
      "Epoch: 7/7... Loss: 0.3859\n",
      "Epoch: 7/7... Loss: 0.3736\n",
      "Epoch: 7/7... Loss: 0.3871\n",
      "Epoch: 7/7... Loss: 0.3763\n",
      "Epoch: 7/7... Loss: 0.4138\n",
      "Epoch: 7/7... Loss: 0.3847\n"
     ]
    }
   ],
   "source": [
    "# TODO: Train the network here\n",
    "epochs = 7\n",
    "print_every = 50\n",
    "steps = 0\n",
    "\n",
    "for e in range(epochs):\n",
    "    running_loss = 0\n",
    "    for images, labels in iter(trainloader):\n",
    "        steps += 1\n",
    "        \n",
    "        images.resize_(images.size()[0], 784)\n",
    "        \n",
    "        optimizer.zero_grad()\n",
    "        \n",
    "        output = model.forward(images)\n",
    "        loss = criterion(output, labels)\n",
    "        loss.backward()\n",
    "        optimizer.step()\n",
    "        \n",
    "        running_loss += loss.item()\n",
    "        \n",
    "        if steps % print_every == 0:\n",
    "            print(\"Epoch: {}/{}...\".format(e+1, epochs),\n",
    "                  \"Loss: {:.4f}\".format(running_loss / print_every))\n",
    "            running_loss = 0"
   ]
  },
  {
   "cell_type": "code",
   "execution_count": 25,
   "metadata": {},
   "outputs": [
    {
     "name": "stdout",
     "output_type": "stream",
     "text": [
      "tensor([[2.4846e-19, 7.5338e-15, 9.9139e-25, 1.6127e-17, 5.7794e-23, 1.2494e-05,\n",
      "         2.8997e-17, 9.9999e-01, 6.2128e-09, 8.1124e-08]])\n"
     ]
    },
    {
     "data": {
      "image/png": "[encoded data removed]",
      "text/plain": [
       "<matplotlib.figure.Figure at 0x7fa01015a5c0>"
      ]
     },
     "metadata": {
      "image/png": {
       "height": 204,
       "width": 423
      }
     },
     "output_type": "display_data"
    }
   ],
   "source": [
    "# Test out your network!\n",
    "\n",
    "dataiter = iter(testloader)\n",
    "images, labels = dataiter.next()\n",
    "img = images[0]\n",
    "# Convert 2D image to 1D vector\n",
    "img = img.resize_(1, 784)\n",
    "\n",
    "# TODO: Calculate the class probabilities (softmax) for img\n",
    "with torch.no_grad():\n",
    "    result = model.forward(img)\n",
    "ps = F.softmax(result, dim=1)\n",
    "\n",
    "# Plot the image and probabilities\n",
    "helper.view_classify(img.resize_(1, 28, 28), ps, version='Fashion')"
   ]
  },
  {
   "cell_type": "markdown",
   "metadata": {},
   "source": [
    "Now that your network is trained, you'll want to save it to disk so you can load it later instead of training it again. Obviously, it's impractical to train a network every time you need one. In practice, you'll train it once, save the model, then reload it for further training or making predictions. In the next part, I'll show you how to save and load trained models."
   ]
  }
 ],
 "metadata": {
  "kernelspec": {
   "display_name": "Python 3",
   "language": "python",
   "name": "python3"
  },
  "language_info": {
   "codemirror_mode": {
    "name": "ipython",
    "version": 3
   },
   "file_extension": ".py",
   "mimetype": "text/x-python",
   "name": "python",
   "nbconvert_exporter": "python",
   "pygments_lexer": "ipython3",
   "version": "3.6.5"
  }
 },
 "nbformat": 4,
 "nbformat_minor": 2
}
